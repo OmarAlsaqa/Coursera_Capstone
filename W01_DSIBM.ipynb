{
  "nbformat": 4,
  "nbformat_minor": 0,
  "metadata": {
    "colab": {
      "name": "W01_DSIBM.ipynb",
      "provenance": [],
      "collapsed_sections": [],
      "authorship_tag": "ABX9TyPzxJXTTD2z45Uas3wbQzaU"
    },
    "kernelspec": {
      "name": "python3",
      "display_name": "Python 3"
    }
  },
  "cells": [
    {
      "cell_type": "markdown",
      "metadata": {
        "id": "mM2nyPo1ZtEs"
      },
      "source": [
        "\r\n",
        "# Applied Data Science Capstone (IBM, Coursera)\r\n",
        "\r\n",
        "### Week 1\r\n",
        "\r\n",
        "1. Write some markdown to explain that this notebook will be mainly used for the capstone project.\r\n",
        "\r\n",
        "This notebook will be used for the Capstone Project. We are goint to use Foursquare API, Neighborhood Segmentation and Clustering.\r\n",
        "\r\n",
        "2. Import the pandas library as pd.\r\n"
      ]
    },
    {
      "cell_type": "code",
      "metadata": {
        "id": "3y6zCaMtZhOY"
      },
      "source": [
        "import pandas as pd"
      ],
      "execution_count": 1,
      "outputs": []
    },
    {
      "cell_type": "markdown",
      "metadata": {
        "id": "-V0ixpU5Z5LC"
      },
      "source": [
        "3. Import the Numpy library as np."
      ]
    },
    {
      "cell_type": "code",
      "metadata": {
        "id": "d58R5jKcZ3Er"
      },
      "source": [
        "import numpy as np"
      ],
      "execution_count": 2,
      "outputs": []
    },
    {
      "cell_type": "markdown",
      "metadata": {
        "id": "n2zGRVhuZ8Gi"
      },
      "source": [
        "4. Print the following the statement: Hello Capstone Project Course!"
      ]
    },
    {
      "cell_type": "code",
      "metadata": {
        "colab": {
          "base_uri": "https://localhost:8080/"
        },
        "id": "0jDfOCleZ7pb",
        "outputId": "7f8b53f9-20ec-4d19-9813-857c4b0f6ac6"
      },
      "source": [
        "print('Hello Capstone Project Course!')"
      ],
      "execution_count": 3,
      "outputs": [
        {
          "output_type": "stream",
          "text": [
            "Hello Capstone Project Course!\n"
          ],
          "name": "stdout"
        }
      ]
    },
    {
      "cell_type": "code",
      "metadata": {
        "id": "5OsJoVUfaADF"
      },
      "source": [
        ""
      ],
      "execution_count": null,
      "outputs": []
    }
  ]
}